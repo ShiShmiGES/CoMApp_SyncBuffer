{
    "metadata": {
        "kernelspec": {
            "name": "SQL",
            "display_name": "SQL",
            "language": "sql"
        },
        "language_info": {
            "name": "sql",
            "version": ""
        }
    },
    "nbformat_minor": 2,
    "nbformat": 4,
    "cells": [
        {
            "cell_type": "markdown",
            "source": [
                "Dies ist ein Text"
            ],
            "metadata": {
                "azdata_cell_guid": "39dba400-1563-4a8e-b2f6-e500ea2843a1"
            },
            "attachments": {}
        },
        {
            "cell_type": "code",
            "source": [
                "select * from "
            ],
            "metadata": {
                "azdata_cell_guid": "e7073094-33eb-40c5-97cc-a522b56cc717",
                "language": "sql"
            },
            "outputs": [],
            "execution_count": null
        }
    ]
}