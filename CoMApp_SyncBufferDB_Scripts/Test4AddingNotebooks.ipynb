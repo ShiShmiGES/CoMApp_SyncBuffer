{
    "metadata": {
        "kernelspec": {
            "name": "SQL",
            "display_name": "SQL",
            "language": "sql"
        },
        "language_info": {
            "name": "sql",
            "version": ""
        }
    },
    "nbformat_minor": 2,
    "nbformat": 4,
    "cells": [
        {
            "cell_type": "markdown",
            "source": [
                "TestHeader"
            ],
            "metadata": {
                "azdata_cell_guid": "a851535b-e848-43a8-9199-b1aee195dbde"
            },
            "attachments": {}
        },
        {
            "cell_type": "code",
            "source": [
                ""
            ],
            "metadata": {
                "azdata_cell_guid": "b2b97b47-1a44-48cd-94cb-9f9fc79b81f2",
                "language": "sql"
            },
            "outputs": [],
            "execution_count": null
        }
    ]
}